{
 "cells": [
  {
   "cell_type": "markdown",
   "metadata": {},
   "source": [
    "# RSA"
   ]
  },
  {
   "cell_type": "markdown",
   "metadata": {},
   "source": [
    "# Création d'un couple de clés RSA"
   ]
  },
  {
   "cell_type": "code",
   "execution_count": 5,
   "metadata": {},
   "outputs": [
    {
     "data": {
      "text/plain": [
       "(RsaKey(n=20407466268115352862809756111114384433322418175199159735583395451398636770443883075716097723387202234653622245778256180046248158003922062233059059238618213810673870936886890477872764686892802095940110501098988098302471544671787453184654358652701226434465244056019160320553733934104709849994753198529787523966834583658971554786838017154567008713461649164971733811119211916964640970226466976715384587768699297757042345990073860959893580793664216779093245029687086409878842424684800082909832329198663746988193991553144883174253643193473953230981638796372572755207451241236757035660407516043054600974664034711438082599401, e=65537, d=459632738326569258235377126687415734660060552175978450443280291147340323343042170239523306636690183232621960975283267329321844909373930115975138484606304529511427652214250222959946917545894576403631515142739045992367985798883205898340459319899994854956029191448929338696634768402331653750263291385322125203151249716397988004727514879388638735945683116849193550398859153284489211780318284868342067134559955255773219623096000336771810280782717791542374321665688464623975942687093035171508356567514685937412635406201904156411635619031425501151699669647579243606988057777448541539787242204440113028872584430796107982033, p=138776529825314804358649687612559898219488531212565729452437227292970790692328272269004677912790278746677268045074511003913811658165349024801608459568055280332316546172867143294186975360929454976300203980823700123721939914373209645809530129627424927140177594683117744306902553755023376876042402936840444654681, q=147052720613516465160028916749874631903079334404055561984487320259161009981968634892641750346632195273353412251289630550790920078603401125351653223064020438313687875101526120155155091239146840642409251477438339903164961369331569885340500347592394148023118476551677963580162488259007165312162565777893860143121, u=16276773459676586698758660974559497853587506064863402345504254731932928700922362551932427658033968956419573351435729888800704842815459363035075028218167695894663249644241717035127663213131688400243491842785355227582425488071382742710031904734675832732937437119488927840206570313259337426584072766175211097539),\n",
       " RsaKey(n=20407466268115352862809756111114384433322418175199159735583395451398636770443883075716097723387202234653622245778256180046248158003922062233059059238618213810673870936886890477872764686892802095940110501098988098302471544671787453184654358652701226434465244056019160320553733934104709849994753198529787523966834583658971554786838017154567008713461649164971733811119211916964640970226466976715384587768699297757042345990073860959893580793664216779093245029687086409878842424684800082909832329198663746988193991553144883174253643193473953230981638796372572755207451241236757035660407516043054600974664034711438082599401, e=65537))"
      ]
     },
     "execution_count": 5,
     "metadata": {},
     "output_type": "execute_result"
    }
   ],
   "source": [
    "from Crypto.PublicKey import RSA\n",
    "\n",
    "def generer_couple_cles():\n",
    "    \"\"\"Permet de générer un couple de clés RSA et de les stocker dans les fichiers data/private.pem et data/public.pem\n",
    "\n",
    "    Returns:\n",
    "        tuple: Le couple de clés généré\n",
    "    \"\"\"\n",
    "    key = RSA.generate(2048)\n",
    "    with open('data/private.pem', 'wb') as f:\n",
    "        f.write(key.exportKey('PEM'))\n",
    "    with open('data/public.pem', 'wb') as f:\n",
    "        f.write(key.publickey().exportKey('PEM'))\n",
    "    return (RSA.importKey(open('data/private.pem').read()), RSA.importKey(open('data/public.pem').read()))\n",
    "\n",
    "generer_couple_cles()"
   ]
  },
  {
   "cell_type": "markdown",
   "metadata": {},
   "source": [
    "# Chiffrement et déchiffrement RSA"
   ]
  },
  {
   "cell_type": "code",
   "execution_count": 3,
   "metadata": {},
   "outputs": [
    {
     "name": "stdout",
     "output_type": "stream",
     "text": [
      "Le message chiffré : b'\\xa3\\x98D\\x10PZ\\x11\\x86@\\x81x\\xfe9_\\xf6\\xec=\\xc1\\xef\\xa8\\xf2,\\x9c\\xbf$\\xebv \\x10Bfs\\x93HS\\xd4\\xcfiGP\\x11\\x03QO\\xfc\\xd4\\xec\\xd4\\xd5j\\xecM[\\x7f\\x8aKk\\xf5\\xc5\\xc0/\\xfa\\xd0\\xeb##\\xcf\\xa6\\xf9\\xcd\\x1dL\\x9c\\xca\\xae\\xe1n\\x1f\\x8a\\xb6\\xfe5>\\x0e\\xc21\\x81\\xd0\\xac\\x14v.\\x83\\xd8\\x96T\\x96\\x91\\xe2 \\x87\\xe9y\\xda\\xec\\xa3=\\x80\\xf6\\xa6\\x9a\\x02W\\xff\\xaaAv:]\\xf2MSAR:\\x8dO\\xb0\\x16L\\xa5LII\\xc2Dk\\xba,\\xe2Sy\\xc0\\x07\\xefol.Ha\\x0b\\xdb\\xe4K\\xf2\\xc5E\\xdb\\xf8\\n\\xf8\\x10b\\xec\\x8c\\xbb\\xb8O\\xfcp\\xeb\\xe2n#$\\xfd\\x1e\\x15\\x1d_s\\x80\\x0f\\xf3\\x0c3\\xf6\\x84_T\\xf2\\xb5l1\\x90N\\x06\\x194c8\\xe1gAzG\\xc7,\\xbeW\\xf9e5_s}qsw\\xbf\\x9c\\xba\\xbf\\x081\\xbauQ\\xf6.HF\\xb2\\xec\\xa0;\\xc4v\\xaaZ\\x89\\xd2(\\xdc>\\xa5a\\xb7\\xb6[\\x01U\\xc0\\xe0\\xb4\\xb9'\n",
      "Le message déchiffré : Test de chiffrement RSA avec une cle de 2048 bits\n"
     ]
    }
   ],
   "source": [
    "from Crypto.Cipher import PKCS1_OAEP\n",
    "\n",
    "def encrypt(message, public_key):\n",
    "    \"\"\"Permet de chiffrer un message avec une clé publique RSA\n",
    "\n",
    "    Args:\n",
    "        message (bytes): Le message à chiffrer\n",
    "        public_key (str): La clé publique RSA\n",
    "\n",
    "    Returns:\n",
    "        bytes: Le message chiffré\n",
    "    \"\"\"\n",
    "    key = RSA.importKey(public_key)\n",
    "    return PKCS1_OAEP.new(key).encrypt(message)\n",
    "\n",
    "def decrypt(ciphertext, private_key):\n",
    "    \"\"\"Permet de déchiffrer un message avec une clé privée RSA\n",
    "\n",
    "    Args:\n",
    "        ciphertext (bytes): Le message chiffré\n",
    "        private_key (str): La clé privée RSA\n",
    "\n",
    "    Returns:\n",
    "        str: Le message déchiffré\n",
    "    \"\"\"\n",
    "    key = RSA.importKey(private_key)\n",
    "    return PKCS1_OAEP.new(key).decrypt(ciphertext).decode('utf-8')\n",
    "\n",
    "message = b'Test de chiffrement RSA avec une cle de 2048 bits'\n",
    "private_key = open('data/private.pem').read()\n",
    "public_key = open('data/public.pem').read()\n",
    "ciphertext = encrypt(message, public_key)\n",
    "print(\"Le message chiffré :\", ciphertext)\n",
    "decrypted = decrypt(ciphertext, private_key)\n",
    "print(\"Le message déchiffré :\", decrypted)"
   ]
  }
 ],
 "metadata": {
  "kernelspec": {
   "display_name": "Python 3",
   "language": "python",
   "name": "python3"
  },
  "language_info": {
   "codemirror_mode": {
    "name": "ipython",
    "version": 3
   },
   "file_extension": ".py",
   "mimetype": "text/x-python",
   "name": "python",
   "nbconvert_exporter": "python",
   "pygments_lexer": "ipython3",
   "version": "3.10.6"
  }
 },
 "nbformat": 4,
 "nbformat_minor": 2
}
