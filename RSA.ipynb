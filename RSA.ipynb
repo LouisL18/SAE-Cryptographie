{
 "cells": [
  {
   "cell_type": "markdown",
   "metadata": {},
   "source": [
    "# RSA"
   ]
  },
  {
   "cell_type": "markdown",
   "metadata": {},
   "source": [
    "# Création d'un couple de clés RSA"
   ]
  },
  {
   "cell_type": "code",
   "execution_count": 24,
   "metadata": {},
   "outputs": [],
   "source": [
    "from Crypto.PublicKey import RSA\n",
    "\n",
    "def generer_couple_cles():\n",
    "    key = RSA.generate(2048)\n",
    "    with open('data/private.pem', 'wb') as f:\n",
    "        f.write(key.exportKey('PEM'))\n",
    "    with open('data/public.pem', 'wb') as f:\n",
    "        f.write(key.publickey().exportKey('PEM'))\n",
    "    return (RSA.importKey(open('data/private.pem').read()), RSA.importKey(open('data/public.pem').read()))\n",
    "\n",
    "generer_couple_cles()"
   ]
  },
  {
   "cell_type": "markdown",
   "metadata": {},
   "source": [
    "# Chiffrement et déchiffrement RSA"
   ]
  },
  {
   "cell_type": "code",
   "execution_count": 27,
   "metadata": {},
   "outputs": [
    {
     "name": "stdout",
     "output_type": "stream",
     "text": [
      "Le message chiffré : b'\\x9d\\xaaJ\\x84Ra\\xe0\\x91\\xb0i\\xb0\\xaa\\xfa\\x85\\xb4\\x9c-o\\x03\\xb0\\xdf\\x87\\xa2\\xd6\\x90\\'\\xf8gW\\x9c\\x96\\tk\\x81\\xe2\\x8eD@\\x0c\\xfe6\\xd8\\xb0\\xcc\\xb2e&d_M\\x8c\\xa0{\\xa5\\xd1\\x94\\r\\xbd\\x1f\\xc7\\xc1\\xfb{\\x8f\\x86\\xb8\\x07\\x95\\x81\\xac>\\xe3\\x1a\\xfd\\xe1\\\\\\x83L6L\\xc6\\xb74..\\x95\\xef\\x1cy\\xdd}\\x1e\\x0bDr\\xff\\xc9\\x17\\x85T&\\x01\\xc3\\x91O:\\x15jp\\xcf|\\xaa1x\\xc0\\x97\\xa3)\\xe5\\x8f\\x1a\\xe2\\xb6\\xeeT\\xc2;cshl[\\xb4S\\xd1\\xbfPAI\\x1c\\xbb\\x05R\\x8a\\xc9\\xe5!7\\xa7,q\\x84c\\xe2\\x07\\xd8\\xfa\\xa5$\\xf2\\xdb\\x1arw&\\xf2}\\xeb2\\x0f\\x17h\\n\"\\r.\\x10zua\\xc5\\r5\\xd1^\\x06\\xad9\\xd7\\xe64\\\\b\\x11p,%\\x9aKP\\xf6p\\xacK\\x80N\\xd1^\\xac.\\x895\\xbf\\xc3\\t\\x05\\xb1\\x07\\xa7^/\\x14\\xe6\\xefR\\x1bA\\x98\\xd7\\x05\\x9f\\xc9\\xdf\\xd8\\'\\xb3\\xc0\\xfa\\x12\\xd7y\\xcd\\xa8y9\\xc3\\x0c\\xa0\\xf5\\xb4b\\x9c\\x05:\\x04|'\n",
      "Le message déchiffré : Test de chiffrement RSA avec une cle de 2048 bits\n"
     ]
    }
   ],
   "source": [
    "from Crypto.Cipher import PKCS1_OAEP\n",
    "\n",
    "def encrypt(message, public_key):\n",
    "    key = RSA.importKey(public_key)\n",
    "    return PKCS1_OAEP.new(key).encrypt(message)\n",
    "\n",
    "def decrypt(ciphertext, private_key):\n",
    "    key = RSA.importKey(private_key)\n",
    "    return PKCS1_OAEP.new(key).decrypt(ciphertext).decode('utf-8')\n",
    "\n",
    "message = b'Test de chiffrement RSA avec une cle de 2048 bits'\n",
    "private_key = open('data/private.pem').read()\n",
    "public_key = open('data/public.pem').read()\n",
    "ciphertext = encrypt(message, public_key)\n",
    "print(\"Le message chiffré :\", ciphertext)\n",
    "decrypted = decrypt(ciphertext, private_key)\n",
    "print(\"Le message déchiffré :\", decrypted)"
   ]
  }
 ],
 "metadata": {
  "kernelspec": {
   "display_name": "Python 3",
   "language": "python",
   "name": "python3"
  },
  "language_info": {
   "codemirror_mode": {
    "name": "ipython",
    "version": 3
   },
   "file_extension": ".py",
   "mimetype": "text/x-python",
   "name": "python",
   "nbconvert_exporter": "python",
   "pygments_lexer": "ipython3",
   "version": "3.10.6"
  }
 },
 "nbformat": 4,
 "nbformat_minor": 2
}
