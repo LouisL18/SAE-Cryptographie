{
 "cells": [
  {
   "cell_type": "markdown",
   "metadata": {},
   "source": [
    "# AES"
   ]
  },
  {
   "cell_type": "markdown",
   "metadata": {},
   "source": [
    "## Chiffrement et déchiffrement d'un message avec AES et une clé de 256 bits"
   ]
  },
  {
   "cell_type": "code",
   "execution_count": 1,
   "metadata": {},
   "outputs": [],
   "source": [
    "from cryptography.hazmat.primitives.ciphers import Cipher, algorithms, modes\n",
    "from cryptography.hazmat.primitives import padding\n",
    "from cryptography.hazmat.backends import default_backend\n",
    "from os import urandom\n",
    "import os\n",
    "\n",
    "def encrypt(key, message):\n",
    "    \"\"\"Chiffre un message avec AES et une clé de 256 bits.\n",
    "\n",
    "    Args:\n",
    "        key (bytes): Clé de 256 bits.\n",
    "        message (bytes): Message à chiffrer.\n",
    "\n",
    "    Returns:\n",
    "        bytes: Message chiffré avec un vecteur d'initialisation de 16 octets.\n",
    "    \"\"\"\n",
    "    iv = urandom(16)\n",
    "    cipher = Cipher(algorithms.AES(key), modes.CBC(iv))\n",
    "    padder = padding.PKCS7(128).padder()\n",
    "    padded_data = padder.update(message) + padder.finalize()\n",
    "    encryptor = cipher.encryptor()\n",
    "    ciphertext = encryptor.update(padded_data) + encryptor.finalize()\n",
    "    return iv + ciphertext\n",
    "\n",
    "def decrypt(key, ciphertext):\n",
    "    \"\"\"Déchiffre un message avec AES et une clé de 256 bits.\n",
    "\n",
    "    Args:\n",
    "        key (bytes): Clé de 256 bits.\n",
    "        ciphertext (bytes): Message chiffré.\n",
    "\n",
    "    Raises:\n",
    "        ValueError: Le message n'est pas de la bonne taille, il doit être un multiple de 16 octets.\n",
    "\n",
    "    Returns:\n",
    "        str: Message déchiffré.\n",
    "    \"\"\"\n",
    "    if len(ciphertext[16:]) % 16 != 0:\n",
    "        raise ValueError(f'Le message ({len(ciphertext[16:])} octets) n\\'est pas de la bonne taille, il doit être un multiple de 16 octets')\n",
    "    cipher = Cipher(algorithms.AES(key), modes.CBC(ciphertext[:16]), backend=default_backend())\n",
    "    decryptor = cipher.decryptor()\n",
    "    decrypted = decryptor.update(ciphertext[16:]) + decryptor.finalize()\n",
    "    unpadder = padding.PKCS7(128).unpadder()\n",
    "    unpadded = unpadder.update(decrypted) + unpadder.finalize()\n",
    "    return unpadded.decode()"
   ]
  },
  {
   "cell_type": "markdown",
   "metadata": {},
   "source": [
    "## Recherche de la clé dans les images"
   ]
  },
  {
   "cell_type": "code",
   "execution_count": 3,
   "metadata": {},
   "outputs": [],
   "source": [
    "from PIL import Image\n",
    "\n",
    "def dechiffrer_image(path):\n",
    "    \"\"\"Permet de récupérer la clé de chiffrement d'une image en récupérant le bits de poids faible de chaque pixel.\n",
    "\n",
    "    Args:\n",
    "        path (str): Chemin vers l'image.\n",
    "\n",
    "    Returns:\n",
    "        str: La clé de chiffrement.\n",
    "    \"\"\"\n",
    "    image = Image.open(path)\n",
    "    pixels = image.load()\n",
    "    (largeur, hauteur) = image.size\n",
    "    return ''.join([str(pixels[x, y] % 2) for y in range(hauteur) for x in range(largeur)])[:64]"
   ]
  }
 ],
 "metadata": {
  "kernelspec": {
   "display_name": "Python 3",
   "language": "python",
   "name": "python3"
  },
  "language_info": {
   "codemirror_mode": {
    "name": "ipython",
    "version": 3
   },
   "file_extension": ".py",
   "mimetype": "text/x-python",
   "name": "python",
   "nbconvert_exporter": "python",
   "pygments_lexer": "ipython3",
   "version": "3.11.7"
  }
 },
 "nbformat": 4,
 "nbformat_minor": 2
}
