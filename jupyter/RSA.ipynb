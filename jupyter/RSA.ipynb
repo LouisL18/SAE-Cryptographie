{
 "cells": [
  {
   "cell_type": "markdown",
   "metadata": {},
   "source": [
    "# RSA"
   ]
  },
  {
   "cell_type": "markdown",
   "metadata": {},
   "source": [
    "# Création d'un couple de clés RSA"
   ]
  },
  {
   "cell_type": "code",
   "execution_count": 1,
   "metadata": {},
   "outputs": [],
   "source": [
    "from Crypto.PublicKey import RSA\n",
    "import os\n",
    "\n",
    "def generer_couple_cles():\n",
    "    \"\"\"Permet de générer un couple de clés RSA et de les stocker dans les fichiers data/private.pem et data/public.pem\n",
    "\n",
    "    Returns:\n",
    "        tuple: Le couple de clés généré\n",
    "    \"\"\"\n",
    "    key = RSA.generate(2048)\n",
    "    with open(os.path.join('../data', 'private.pem'), 'wb') as f:\n",
    "        f.write(key.exportKey('PEM'))\n",
    "    with open(os.path.join('../data', 'public.pem'), 'wb') as f:\n",
    "        f.write(key.publickey().exportKey('PEM'))"
   ]
  },
  {
   "cell_type": "markdown",
   "metadata": {},
   "source": [
    "# Chiffrement et déchiffrement RSA"
   ]
  },
  {
   "cell_type": "code",
   "execution_count": 2,
   "metadata": {},
   "outputs": [],
   "source": [
    "from Crypto.Cipher import PKCS1_OAEP\n",
    "\n",
    "def encrypt(message, public_key):\n",
    "    \"\"\"Permet de chiffrer un message avec une clé publique RSA\n",
    "\n",
    "    Args:\n",
    "        message (bytes): Le message à chiffrer\n",
    "        public_key (str): La clé publique RSA\n",
    "\n",
    "    Returns:\n",
    "        bytes: Le message chiffré\n",
    "    \"\"\"\n",
    "    key = RSA.importKey(public_key)\n",
    "    return PKCS1_OAEP.new(key).encrypt(message)\n",
    "\n",
    "def decrypt(ciphertext, private_key):\n",
    "    \"\"\"Permet de déchiffrer un message avec une clé privée RSA\n",
    "\n",
    "    Args:\n",
    "        ciphertext (bytes): Le message chiffré\n",
    "        private_key (str): La clé privée RSA\n",
    "\n",
    "    Returns:\n",
    "        str: Le message déchiffré\n",
    "    \"\"\"\n",
    "    key = RSA.importKey(private_key)\n",
    "    return PKCS1_OAEP.new(key).decrypt(ciphertext).decode('utf-8')"
   ]
  }
 ],
 "metadata": {
  "kernelspec": {
   "display_name": "Python 3",
   "language": "python",
   "name": "python3"
  },
  "language_info": {
   "codemirror_mode": {
    "name": "ipython",
    "version": 3
   },
   "file_extension": ".py",
   "mimetype": "text/x-python",
   "name": "python",
   "nbconvert_exporter": "python",
   "pygments_lexer": "ipython3",
   "version": "3.11.7"
  }
 },
 "nbformat": 4,
 "nbformat_minor": 2
}
