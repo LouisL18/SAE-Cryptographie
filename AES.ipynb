{
 "cells": [
  {
   "cell_type": "markdown",
   "metadata": {},
   "source": [
    "# AES"
   ]
  },
  {
   "cell_type": "markdown",
   "metadata": {},
   "source": [
    "# Chiffrement d'un message avec AES et une clé de 256 bits."
   ]
  },
  {
   "cell_type": "code",
   "execution_count": 55,
   "metadata": {},
   "outputs": [
    {
     "name": "stdout",
     "output_type": "stream",
     "text": [
      "Le message chiffré : b'\\xddN\\x19=\\x13I0:\\xe1\\xfe\\xf1\\x80B\\x7f\\xf8\\x89r\\x0e\\xb4\\xa2,n\\xd5\\x17\\x96\\xd4ti[\\xb8\\xdf\\xfci\\xdb\\x01\\x07\\xc4\\x19\\xa5M9\\xed\\x16\\x1c\"\\xbdO\\x03<\\x0beg\\n\\xa9\\xa2\\x8c\\xdfR\\x83\\x89w\\x92\\xb9\\x92\\x0eG\\xe7c]\\xc4\\xbb\\x1b\\xa9\\x93\\x9a<1\\x92-\\xe8'\n",
      "Le message déchiffré : Test de chiffrement AES avec CBC et un padding PKCS7\n"
     ]
    }
   ],
   "source": [
    "from cryptography.hazmat.primitives.ciphers import Cipher, algorithms, modes\n",
    "from cryptography.hazmat.primitives import padding\n",
    "from cryptography.hazmat.backends import default_backend\n",
    "from os import urandom\n",
    "\n",
    "def encrypt(key, message):\n",
    "    \"\"\"Chiffre un message avec AES et une clé de 256 bits.\n",
    "\n",
    "    Args:\n",
    "        key (bytes): Clé de 256 bits.\n",
    "        message (bytes): Message à chiffrer.\n",
    "\n",
    "    Returns:\n",
    "        bytes: Message chiffré.\n",
    "    \"\"\"\n",
    "    iv = urandom(16)\n",
    "    cipher = Cipher(algorithms.AES(key), modes.CBC(iv))\n",
    "    padder = padding.PKCS7(128).padder()\n",
    "    padded_data = padder.update(message) + padder.finalize()\n",
    "    encryptor = cipher.encryptor()\n",
    "    ciphertext = encryptor.update(padded_data) + encryptor.finalize()\n",
    "    return iv + ciphertext\n",
    "\n",
    "def decrypt(key, ciphertext):\n",
    "    \"\"\"Déchiffre un message avec AES et une clé de 256 bits.\n",
    "\n",
    "    Args:\n",
    "        key (bytes): Clé de 256 bits.\n",
    "        ciphertext (bytes): Message chiffré.\n",
    "\n",
    "    Raises:\n",
    "        ValueError: Le message n'est pas de la bonne taille, il doit être un multiple de 16 octets.\n",
    "\n",
    "    Returns:\n",
    "        str: Message déchiffré.\n",
    "    \"\"\"\n",
    "    if len(ciphertext[16:]) % 16 != 0:\n",
    "        raise ValueError(f'Le message ({len(ciphertext[16:])} octets) n\\'est pas de la bonne taille, il doit être un multiple de 16 octets')\n",
    "    cipher = Cipher(algorithms.AES(key), modes.CBC(ciphertext[:16]), backend=default_backend())\n",
    "    decryptor = cipher.decryptor()\n",
    "    decrypted = decryptor.update(ciphertext[16:]) + decryptor.finalize()\n",
    "    unpadder = padding.PKCS7(128).unpadder()\n",
    "    unpadded = unpadder.update(decrypted) + unpadder.finalize()\n",
    "    return unpadded.decode()\n",
    "\n",
    "key = \"01\" * 128\n",
    "key = int(key, 2).to_bytes(len(key) // 8, byteorder='big')\n",
    "\n",
    "message = b'Test de chiffrement AES avec CBC et un padding PKCS7'\n",
    "ciphertext = encrypt(key, message)\n",
    "print(\"Le message chiffré :\", ciphertext)\n",
    "\n",
    "decrypted = decrypt(key, ciphertext)\n",
    "print(\"Le message déchiffré :\", decrypted)"
   ]
  },
  {
   "cell_type": "markdown",
   "metadata": {},
   "source": [
    "# Recherche de la clé dans les images"
   ]
  },
  {
   "cell_type": "code",
   "execution_count": 56,
   "metadata": {},
   "outputs": [
    {
     "name": "stdout",
     "output_type": "stream",
     "text": [
      "La clé est en binaire : 1110011101101101001100010011111110010010101110011001000001001100 (en hexadécimal : 0xe76d313f92b9904c)\n"
     ]
    }
   ],
   "source": [
    "from PIL import Image\n",
    "\n",
    "def dechiffrer_image(path):\n",
    "    image = Image.open(path)\n",
    "    pixels = image.load()\n",
    "    (largeur, hauteur) = image.size\n",
    "    return ''.join([str(pixels[x, y] % 2) for y in range(hauteur) for x in range(largeur)])[:64]\n",
    "\n",
    "key = dechiffrer_image('data/rossignol2.bmp')\n",
    "print(f'La clé est en binaire : {key} (en hexadécimal : {hex(int(key, 2))})')"
   ]
  }
 ],
 "metadata": {
  "kernelspec": {
   "display_name": "Python 3",
   "language": "python",
   "name": "python3"
  },
  "language_info": {
   "codemirror_mode": {
    "name": "ipython",
    "version": 3
   },
   "file_extension": ".py",
   "mimetype": "text/x-python",
   "name": "python",
   "nbconvert_exporter": "python",
   "pygments_lexer": "ipython3",
   "version": "3.10.12"
  }
 },
 "nbformat": 4,
 "nbformat_minor": 2
}
