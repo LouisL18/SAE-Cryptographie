{
 "cells": [
  {
   "cell_type": "markdown",
   "metadata": {},
   "source": [
    "# AES"
   ]
  },
  {
   "cell_type": "markdown",
   "metadata": {},
   "source": [
    "# Recherche de la clé dans les images"
   ]
  },
  {
   "cell_type": "code",
   "execution_count": 21,
   "metadata": {},
   "outputs": [
    {
     "name": "stdout",
     "output_type": "stream",
     "text": [
      "La clé est en binaire : 1110011101101101001100010011111110010010101110011001000001001100 (en hexadécimal : 0xe76d313f92b9904c)\n"
     ]
    }
   ],
   "source": [
    "from PIL import Image\n",
    "\n",
    "def dechiffrer_image(path):\n",
    "    image = Image.open(path)\n",
    "    pixels = image.load()\n",
    "    (largeur, hauteur) = image.size\n",
    "    return ''.join([str(pixels[x, y] % 2) for y in range(hauteur) for x in range(largeur)])[:64]\n",
    "\n",
    "key = dechiffrer_image('data/rossignol2.bmp')\n",
    "print(f'La clé est en binaire : {key} (en hexadécimal : {hex(int(key, 2))})')"
   ]
  }
 ],
 "metadata": {
  "kernelspec": {
   "display_name": "Python 3",
   "language": "python",
   "name": "python3"
  },
  "language_info": {
   "codemirror_mode": {
    "name": "ipython",
    "version": 3
   },
   "file_extension": ".py",
   "mimetype": "text/x-python",
   "name": "python",
   "nbconvert_exporter": "python",
   "pygments_lexer": "ipython3",
   "version": "3.10.12"
  }
 },
 "nbformat": 4,
 "nbformat_minor": 2
}
