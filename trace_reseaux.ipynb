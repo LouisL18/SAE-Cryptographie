{
 "cells": [
  {
   "cell_type": "markdown",
   "metadata": {},
   "source": [
    "# Filtrage des paquets"
   ]
  },
  {
   "cell_type": "code",
   "execution_count": 41,
   "metadata": {},
   "outputs": [],
   "source": [
    "from scapy.all import rdpcap, UDP\n",
    "def get_messages_UDP_9999(cap_file_path):\n",
    "    \"\"\"Permet de récupérer les messages UDP sur le port 9999 d'un fichier cap\n",
    "\n",
    "    Args:\n",
    "        cap_file_path (str): le chemin du fichier cap\n",
    "\n",
    "    Returns:\n",
    "        list: la liste des messages UDP sur le port 9999\n",
    "    \"\"\"\n",
    "    packets = rdpcap(cap_file_path)\n",
    "    messages = []\n",
    "    for packet in packets:\n",
    "        if packet.haslayer(UDP) and (packet[UDP].dport == 9999 or packet[UDP].sport == 9999):\n",
    "            messages.append(packet)\n",
    "    return messages"
   ]
  },
  {
   "cell_type": "markdown",
   "metadata": {},
   "source": [
    "# Dechiffrement des paquets avec AES-CBC et un padding PKCS #7"
   ]
  },
  {
   "cell_type": "code",
   "execution_count": 42,
   "metadata": {},
   "outputs": [],
   "source": [
    "from cryptography.hazmat.primitives.ciphers import Cipher, algorithms, modes\n",
    "from cryptography.hazmat.backends import default_backend\n",
    "from cryptography.hazmat.primitives import padding\n",
    "\n",
    "def decrypt_AES_message(message, key):\n",
    "    \"\"\"Permet de décrypter un message chiffré avec AES en mode CBC avec padding PKCS7\n",
    "\n",
    "    Args:\n",
    "        message (scapy.packet): le message à décrypter\n",
    "        key (bytes): la clé de chiffrement (32 octets)\n",
    "\n",
    "    Raises:\n",
    "        ValueError: si le message n'est pas de la bonne taille\n",
    "\n",
    "    Returns:\n",
    "        str: le message décrypté\n",
    "    \"\"\"\n",
    "    if len(message.load[16:]) % 16 != 0:\n",
    "        raise ValueError(f'Le message ({len(message.load[16:])} octets) n\\'est pas de la bonne taille, il doit être un multiple de 16 octets')\n",
    "    cipher = Cipher(algorithms.AES(key), modes.CBC(message.load[:16]), backend=default_backend())\n",
    "    decryptor = cipher.decryptor()\n",
    "    decrypted = decryptor.update(message.load[16:]) + decryptor.finalize()\n",
    "    unpadder = padding.PKCS7(128).unpadder()\n",
    "    unpadded = unpadder.update(decrypted) + unpadder.finalize()\n",
    "    return unpadded.decode()"
   ]
  },
  {
   "cell_type": "markdown",
   "metadata": {},
   "source": [
    "# Déchiffrement de la trace réseau"
   ]
  },
  {
   "cell_type": "code",
   "execution_count": 43,
   "metadata": {},
   "outputs": [
    {
     "name": "stdout",
     "output_type": "stream",
     "text": [
      "[{'ee:9f:5f:0f:f5:b5': \"La crypto c'est trop bien!\"}, {'f2:c8:3c:4a:4f:48': \"Je suis complètement d'accord!\"}]\n"
     ]
    }
   ],
   "source": [
    "def decrypt_traffic(cap_file_path):\n",
    "    \"\"\"Permet de décrypter le payload des messages UDP sur le port 9999 d'un fichier cap utilisant le protocole AES en mode CBC avec padding PKCS #7\n",
    "\n",
    "    Args:\n",
    "        cap_file_path (str): le chemin du fichier cap\n",
    "\n",
    "    Returns:\n",
    "        list: la liste des messages décryptés sous la forme d'un dictionnaire {adresse source: message décrypté}\n",
    "    \"\"\"\n",
    "    messages = get_messages_UDP_9999(cap_file_path)\n",
    "    decrypted_messages = []\n",
    "    for message in messages:\n",
    "        decrypted_messages.append({message.src: decrypt_AES_message(message[UDP].payload, key)})\n",
    "    return decrypted_messages\n",
    "\n",
    "key = \"1110011101101101001100010011111110010010101110011001000001001100111001110110110100110001001111111001001010111001100100000100110011100111011011010011000100111111100100101011100110010000010011001110011101101101001100010011111110010010101110011001000001001100\"\n",
    "key = int(key, 2).to_bytes(len(key) // 8, byteorder='big')\n",
    "print(decrypt_traffic('data/trace_sae.cap'))"
   ]
  }
 ],
 "metadata": {
  "kernelspec": {
   "display_name": "Python 3",
   "language": "python",
   "name": "python3"
  },
  "language_info": {
   "codemirror_mode": {
    "name": "ipython",
    "version": 3
   },
   "file_extension": ".py",
   "mimetype": "text/x-python",
   "name": "python",
   "nbconvert_exporter": "python",
   "pygments_lexer": "ipython3",
   "version": "3.10.12"
  }
 },
 "nbformat": 4,
 "nbformat_minor": 2
}
